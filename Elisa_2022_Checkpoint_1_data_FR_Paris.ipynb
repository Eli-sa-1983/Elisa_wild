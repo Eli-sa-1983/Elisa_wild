{
  "nbformat": 4,
  "nbformat_minor": 0,
  "metadata": {
    "colab": {
      "provenance": [],
      "collapsed_sections": [
        "815_otfHPX5a",
        "JnOBqXLAHJju",
        "A8ee8Jvy-pcL",
        "3k1iqC3wffyB",
        "To2TYJGuPwc-",
        "YSAw1n0NNBrc"
      ],
      "include_colab_link": true
    },
    "kernelspec": {
      "name": "python3",
      "display_name": "Python 3"
    }
  },
  "cells": [
    {
      "cell_type": "markdown",
      "metadata": {
        "id": "view-in-github",
        "colab_type": "text"
      },
      "source": [
        "<a href=\"https://colab.research.google.com/github/Eli-sa-1983/Elisa_wild/blob/main/Elisa_2022_Checkpoint_1_data_FR_Paris.ipynb\" target=\"_parent\"><img src=\"https://colab.research.google.com/assets/colab-badge.svg\" alt=\"Open In Colab\"/></a>"
      ]
    },
    {
      "cell_type": "markdown",
      "metadata": {
        "id": "TYrzh-8uK9ib"
      },
      "source": [
        "C'est ton premier checkpoint.\n",
        "Les 6 exercices sont indépendants. Tu peux donc les effectuer dans l'ordre que tu préfères.\n",
        "\n",
        "Essaye de finir ce checkpoint en 4h. Si tu n'as pas tout fini, ce n'est pas grave. Tu pourras le reprendre plus tard, tu indiqueras simplement en commentaire ce que tu as fait a posteriori.\n",
        "Nous t'avons indiqué des durées estimatives. Evidemment chacun a ses forces et ses faiblesses, avance donc à ton rythme. Cependant, si tu vois que tu dépasses une durée, ne reste pas bloqué, passe à l'exercice suivant. Tu pourras revenir à la fin sur ce que tu n'as pas fini."
      ]
    },
    {
      "cell_type": "code",
      "source": [
        "\n",
        "\n",
        "\"\"\"Bonjour j'ai commencé par Python, ensuite Panda sans finir la dernière question optionnel et j'ai repris SQL, mais je n'ai pas fini le tableur.\n",
        "le vendredi à 16h (avec une pause dejeuner) j'ai fait le tableur et fini la dernière de Panda optionnelle \"\"\""
      ],
      "metadata": {
        "id": "tynjgX29CzkZ"
      },
      "execution_count": null,
      "outputs": []
    },
    {
      "cell_type": "markdown",
      "metadata": {
        "id": "815_otfHPX5a"
      },
      "source": [
        "#SQL - 45 min"
      ]
    },
    {
      "cell_type": "markdown",
      "metadata": {
        "id": "b2l_0IGPQgpp"
      },
      "source": [
        "A partir de la base de données client ci-dessous, crée une **requête SQL** qui fournit :\n",
        "\n",
        "1.   les noms de chaque catégorie,\n",
        "2.   le chiffre d'affaire associé à cette catégorie,\n",
        "3.   et le prix moyen pondéré des produits vendus pour cette catégorie. \n",
        "\n",
        "Le chiffre d'affaire sera arrondi à l'unité la plus proche, et le prix moyen comportera 2 décimales.\n",
        "\n",
        "Ce tableau devra être trié pour avoir les catégories avec le chiffre d'affaire le plus élevé en premier.\n",
        "\n",
        "\n",
        "*** Voici le schéma de la base ***\n",
        "*********************\n",
        "\n",
        "![](https://github.com/murpi/wilddata/blob/master/quests/orders_schema.png?raw=true)\n",
        "\n",
        "\n",
        "\n",
        "\n",
        "*** Voici les premières lignes attendues ***\n",
        "*********************\n",
        "\n",
        "Categories | Chiffre_d_affaire | Prix_moyen\n",
        "- |:-: | -:\n",
        "Beverages | 99465 | 43.45\n",
        "Dairy Products | 69921 | 26.88\n",
        "... | ... | ...\n"
      ]
    },
    {
      "cell_type": "code",
      "metadata": {
        "id": "bRd5eTTlPZIZ"
      },
      "source": [
        "# Exécute le code ci-dessous sans rien modifier\n",
        "import requests\n",
        "import sqlite3\n",
        "import pandas as pd\n",
        "r = requests.get('https://github.com/murpi/wilddata/blob/master/quests/orders.db?raw=true')\n",
        "open('orders.db', 'wb').write(r.content)\n",
        "conn = sqlite3.connect('orders.db')\n",
        "def SQL(script):\n",
        "    global conn\n",
        "    return pd.read_sql(script, conn)\n"
      ],
      "execution_count": null,
      "outputs": []
    },
    {
      "cell_type": "code",
      "metadata": {
        "id": "HMJ538LwOqWK",
        "colab": {
          "base_uri": "https://localhost:8080/",
          "height": 300
        },
        "outputId": "cccac658-02d0-4f2d-8e70-3486684cb6b0"
      },
      "source": [
        "# Modifie la requête SQL dans cette variable\n",
        "script_sql = \"\"\"\n",
        "-- Ici tu peux écrire ton code SQL\n",
        "\n",
        "SELECT CategoryName, round(sum(Quantity*price)) as chiffre_d_affaire, round(sum(price/quantity)) as panier_moyen\n",
        "FROM products\n",
        "JOIN order_details USING (ProductID)\n",
        "JOIN categories USING (CategoryID)\n",
        "GROUP BY CategoryName\n",
        "\n",
        "\"\"\"\n",
        "\n",
        "\n",
        "# Ne modifie rien ci-dessous pour obtenir le résultat de la requête\n",
        "SQL(script_sql)"
      ],
      "execution_count": null,
      "outputs": [
        {
          "output_type": "execute_result",
          "data": {
            "text/plain": [
              "     CategoryName  chiffre_d_affaire  panier_moyen\n",
              "0       Beverages            99465.0         167.0\n",
              "1      Condiments            35072.0          70.0\n",
              "2     Confections            54909.0         164.0\n",
              "3  Dairy Products            69921.0         256.0\n",
              "4  Grains/Cereals            22328.0         107.0\n",
              "5    Meat/Poultry            51677.0         163.0\n",
              "6         Produce            23401.0          96.0\n",
              "7         Seafood            29652.0         128.0"
            ],
            "text/html": [
              "\n",
              "  <div id=\"df-bd78121c-e3a2-43d1-b87e-b037e91e5df1\">\n",
              "    <div class=\"colab-df-container\">\n",
              "      <div>\n",
              "<style scoped>\n",
              "    .dataframe tbody tr th:only-of-type {\n",
              "        vertical-align: middle;\n",
              "    }\n",
              "\n",
              "    .dataframe tbody tr th {\n",
              "        vertical-align: top;\n",
              "    }\n",
              "\n",
              "    .dataframe thead th {\n",
              "        text-align: right;\n",
              "    }\n",
              "</style>\n",
              "<table border=\"1\" class=\"dataframe\">\n",
              "  <thead>\n",
              "    <tr style=\"text-align: right;\">\n",
              "      <th></th>\n",
              "      <th>CategoryName</th>\n",
              "      <th>chiffre_d_affaire</th>\n",
              "      <th>panier_moyen</th>\n",
              "    </tr>\n",
              "  </thead>\n",
              "  <tbody>\n",
              "    <tr>\n",
              "      <th>0</th>\n",
              "      <td>Beverages</td>\n",
              "      <td>99465.0</td>\n",
              "      <td>167.0</td>\n",
              "    </tr>\n",
              "    <tr>\n",
              "      <th>1</th>\n",
              "      <td>Condiments</td>\n",
              "      <td>35072.0</td>\n",
              "      <td>70.0</td>\n",
              "    </tr>\n",
              "    <tr>\n",
              "      <th>2</th>\n",
              "      <td>Confections</td>\n",
              "      <td>54909.0</td>\n",
              "      <td>164.0</td>\n",
              "    </tr>\n",
              "    <tr>\n",
              "      <th>3</th>\n",
              "      <td>Dairy Products</td>\n",
              "      <td>69921.0</td>\n",
              "      <td>256.0</td>\n",
              "    </tr>\n",
              "    <tr>\n",
              "      <th>4</th>\n",
              "      <td>Grains/Cereals</td>\n",
              "      <td>22328.0</td>\n",
              "      <td>107.0</td>\n",
              "    </tr>\n",
              "    <tr>\n",
              "      <th>5</th>\n",
              "      <td>Meat/Poultry</td>\n",
              "      <td>51677.0</td>\n",
              "      <td>163.0</td>\n",
              "    </tr>\n",
              "    <tr>\n",
              "      <th>6</th>\n",
              "      <td>Produce</td>\n",
              "      <td>23401.0</td>\n",
              "      <td>96.0</td>\n",
              "    </tr>\n",
              "    <tr>\n",
              "      <th>7</th>\n",
              "      <td>Seafood</td>\n",
              "      <td>29652.0</td>\n",
              "      <td>128.0</td>\n",
              "    </tr>\n",
              "  </tbody>\n",
              "</table>\n",
              "</div>\n",
              "      <button class=\"colab-df-convert\" onclick=\"convertToInteractive('df-bd78121c-e3a2-43d1-b87e-b037e91e5df1')\"\n",
              "              title=\"Convert this dataframe to an interactive table.\"\n",
              "              style=\"display:none;\">\n",
              "        \n",
              "  <svg xmlns=\"http://www.w3.org/2000/svg\" height=\"24px\"viewBox=\"0 0 24 24\"\n",
              "       width=\"24px\">\n",
              "    <path d=\"M0 0h24v24H0V0z\" fill=\"none\"/>\n",
              "    <path d=\"M18.56 5.44l.94 2.06.94-2.06 2.06-.94-2.06-.94-.94-2.06-.94 2.06-2.06.94zm-11 1L8.5 8.5l.94-2.06 2.06-.94-2.06-.94L8.5 2.5l-.94 2.06-2.06.94zm10 10l.94 2.06.94-2.06 2.06-.94-2.06-.94-.94-2.06-.94 2.06-2.06.94z\"/><path d=\"M17.41 7.96l-1.37-1.37c-.4-.4-.92-.59-1.43-.59-.52 0-1.04.2-1.43.59L10.3 9.45l-7.72 7.72c-.78.78-.78 2.05 0 2.83L4 21.41c.39.39.9.59 1.41.59.51 0 1.02-.2 1.41-.59l7.78-7.78 2.81-2.81c.8-.78.8-2.07 0-2.86zM5.41 20L4 18.59l7.72-7.72 1.47 1.35L5.41 20z\"/>\n",
              "  </svg>\n",
              "      </button>\n",
              "      \n",
              "  <style>\n",
              "    .colab-df-container {\n",
              "      display:flex;\n",
              "      flex-wrap:wrap;\n",
              "      gap: 12px;\n",
              "    }\n",
              "\n",
              "    .colab-df-convert {\n",
              "      background-color: #E8F0FE;\n",
              "      border: none;\n",
              "      border-radius: 50%;\n",
              "      cursor: pointer;\n",
              "      display: none;\n",
              "      fill: #1967D2;\n",
              "      height: 32px;\n",
              "      padding: 0 0 0 0;\n",
              "      width: 32px;\n",
              "    }\n",
              "\n",
              "    .colab-df-convert:hover {\n",
              "      background-color: #E2EBFA;\n",
              "      box-shadow: 0px 1px 2px rgba(60, 64, 67, 0.3), 0px 1px 3px 1px rgba(60, 64, 67, 0.15);\n",
              "      fill: #174EA6;\n",
              "    }\n",
              "\n",
              "    [theme=dark] .colab-df-convert {\n",
              "      background-color: #3B4455;\n",
              "      fill: #D2E3FC;\n",
              "    }\n",
              "\n",
              "    [theme=dark] .colab-df-convert:hover {\n",
              "      background-color: #434B5C;\n",
              "      box-shadow: 0px 1px 3px 1px rgba(0, 0, 0, 0.15);\n",
              "      filter: drop-shadow(0px 1px 2px rgba(0, 0, 0, 0.3));\n",
              "      fill: #FFFFFF;\n",
              "    }\n",
              "  </style>\n",
              "\n",
              "      <script>\n",
              "        const buttonEl =\n",
              "          document.querySelector('#df-bd78121c-e3a2-43d1-b87e-b037e91e5df1 button.colab-df-convert');\n",
              "        buttonEl.style.display =\n",
              "          google.colab.kernel.accessAllowed ? 'block' : 'none';\n",
              "\n",
              "        async function convertToInteractive(key) {\n",
              "          const element = document.querySelector('#df-bd78121c-e3a2-43d1-b87e-b037e91e5df1');\n",
              "          const dataTable =\n",
              "            await google.colab.kernel.invokeFunction('convertToInteractive',\n",
              "                                                     [key], {});\n",
              "          if (!dataTable) return;\n",
              "\n",
              "          const docLinkHtml = 'Like what you see? Visit the ' +\n",
              "            '<a target=\"_blank\" href=https://colab.research.google.com/notebooks/data_table.ipynb>data table notebook</a>'\n",
              "            + ' to learn more about interactive tables.';\n",
              "          element.innerHTML = '';\n",
              "          dataTable['output_type'] = 'display_data';\n",
              "          await google.colab.output.renderOutput(dataTable, element);\n",
              "          const docLink = document.createElement('div');\n",
              "          docLink.innerHTML = docLinkHtml;\n",
              "          element.appendChild(docLink);\n",
              "        }\n",
              "      </script>\n",
              "    </div>\n",
              "  </div>\n",
              "  "
            ]
          },
          "metadata": {},
          "execution_count": 4
        }
      ]
    },
    {
      "cell_type": "markdown",
      "metadata": {
        "id": "JnOBqXLAHJju"
      },
      "source": [
        "# Tableur - 45 min"
      ]
    },
    {
      "cell_type": "markdown",
      "metadata": {
        "id": "i-astmsSHLGn"
      },
      "source": [
        "Le responsable du reporting mensuel est absent, et il faut absolument envoyer le reporting de chiffre d'affaire (quantité * prix de chaque produit) aujourd'hui... mais impossible de remettre la main sur le fichier du mois dernier !\n",
        "\n",
        "Heureusement, tu as trouvé comment extraire les données, [tu les trouveras ici.](https://docs.google.com/spreadsheets/d/1T7zh6Swn4Yj8Feu-xcp-B7xeOQfBoBSWn7sRjx07GvI/edit?usp=sharing)\n",
        "\n",
        "Tu vas maintenant devoir recréer un graphique qui ressemblera au maximum à celui-ci, mais en incluant les données du dernier mois. Tu en profiteras pour ajouter l'affichage des mois sous les colonnes. Tu essaieras au maximum d'utiliser les tableaux croisés dynamiques pour faire ca.\n",
        "\n",
        "Tu incluras l'image du graphique dans ce notebook, et tu indiqueras également le lien de ton google spreadsheet (ou MS Excel online) que tu auras pris soin de partager.\n",
        "\n",
        "![Tableur checkpoint](https://github.com/murpi/wilddata/raw/master/checkpoint1_withoutdate.png)"
      ]
    },
    {
      "cell_type": "markdown",
      "source": [
        "Mon lien https://docs.google.com/spreadsheets/d/1oLF7zz4y-nOk2lE7WGouJ_1pNMYm-v7PKOgSs7uNW60/edit#gid=493555298"
      ],
      "metadata": {
        "id": "FBAOKCr5e2_G"
      }
    },
    {
      "cell_type": "markdown",
      "source": [
        "![graphique_check.jpg](data:image/jpeg;base64,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)"
      ],
      "metadata": {
        "id": "fQ6tAK4Kglz4"
      }
    },
    {
      "cell_type": "markdown",
      "source": [
        "# Python : Algo 1 Météo - 30 min\n",
        "\n",
        "Tu veux créer un script qui te dit comment t'habiller en fonction de la météo du jour :\n"
      ],
      "metadata": {
        "id": "A8ee8Jvy-pcL"
      }
    },
    {
      "cell_type": "markdown",
      "source": [
        "## 1.1 Température\n",
        "* S'il fait strictement plus de 19 degrés,  le script doit afficher \"Prends un t-shirt\"\n",
        "* S'il fait entre 12 et 19 degrés inclus, le script doit afficher \"Prends un pull\"\n",
        "* S'il fait strictement moins de 12 degrés, le script doit afficher \"Prends un manteau\"\n",
        "\n",
        "La variable température contiendra un nombre entier (nous avons mis `14` par défaut, n'hésite pas à modifier cette valeur pour tester)"
      ],
      "metadata": {
        "id": "VQLNdU9xG059"
      }
    },
    {
      "cell_type": "code",
      "source": [
        "temperature = 14\n",
        "\n",
        "# Tu écriras ton script ici :\n",
        "\n",
        "if temperature > 19 :\n",
        "  print(\"Prends un t-shirt\")\n",
        "elif temperature <12 : \n",
        "  print(\"Prends un manteau\")\n",
        "elif 12<temperature<19 :\n",
        "  print(\"Prends un pull\")\n",
        "\n"
      ],
      "metadata": {
        "id": "SV3jcaE5-srQ",
        "colab": {
          "base_uri": "https://localhost:8080/"
        },
        "outputId": "db2bf6b0-2b65-495f-b2bb-ee2313b6765e"
      },
      "execution_count": null,
      "outputs": [
        {
          "output_type": "stream",
          "name": "stdout",
          "text": [
            "Prends un pull\n"
          ]
        }
      ]
    },
    {
      "cell_type": "markdown",
      "source": [
        "## 1.2 Pluie\n",
        "\n",
        "Tu va recopier ton script de la question précédente (1.1) et le modifier pour intégrer la contrainte suivante :\n",
        "* Si la variable `pluie` vaut \"YES\", alors le script affiche \"Prends un manteau\", quelle que soit la température."
      ],
      "metadata": {
        "id": "KSt8QDbJHAqm"
      }
    },
    {
      "cell_type": "code",
      "source": [
        "temperature = 14\n",
        "pluie = \"YES\"\n",
        "\n",
        "# Tu écriras ton script ici :\n",
        "if pluie == \"YES\": \n",
        "  print(\"Prends un manteau\")\n",
        "if temperature > 19 :\n",
        "  print(\"Prends un t-shirt\")\n",
        "elif temperature <12 : \n",
        "  print(\"Prends un manteau\")\n",
        "elif 12<temperature<19 :\n",
        "  print(\"Prends un pull\")\n",
        "  \n",
        "\n",
        "\n"
      ],
      "metadata": {
        "id": "-7V4KUCxFT3j",
        "colab": {
          "base_uri": "https://localhost:8080/"
        },
        "outputId": "09bc8558-3cbe-4a76-f883-7b44c7522da3"
      },
      "execution_count": null,
      "outputs": [
        {
          "output_type": "stream",
          "name": "stdout",
          "text": [
            "Prends un manteau\n",
            "Prends un pull\n"
          ]
        }
      ]
    },
    {
      "cell_type": "markdown",
      "source": [
        "## 1.3 Opérateurs logiques (optionnel)\n",
        "\n",
        "Essaye d'écrire le script précédent (1.2) en utilisant au maximum une seule fois la commande `if` et au maximum une seule fois la commande `elif`."
      ],
      "metadata": {
        "id": "l_f-r5WFH_Xl"
      }
    },
    {
      "cell_type": "code",
      "source": [
        "# Tu écriras ton script ici :\n",
        "if pluie == \"YES\" and temperature > 19  : \n",
        "  print(\"Prends un manteau\")\n",
        "  print(\"Prends un t-shirt\")\n",
        "elif pluie == \"YES\" and temperature <12 :\n",
        "  print(\"Prends un manteau\") \n",
        "  print(\"Prends un manteau\")\n",
        "else : \n",
        "  print(\"Prends un manteau\")\n",
        "  print(\"Prends un pull\")\n"
      ],
      "metadata": {
        "id": "ztf9BPu1Ibod",
        "colab": {
          "base_uri": "https://localhost:8080/"
        },
        "outputId": "496971b2-3ab7-40d6-e8cb-437491cd0ebf"
      },
      "execution_count": null,
      "outputs": [
        {
          "output_type": "stream",
          "name": "stdout",
          "text": [
            "Prends un manteau\n",
            "Prends un pull\n"
          ]
        }
      ]
    },
    {
      "cell_type": "markdown",
      "metadata": {
        "id": "3k1iqC3wffyB"
      },
      "source": [
        "# Python : Algo 2 - 30 min\n",
        "\n",
        "Un magasin importe des produits américains et les revend sur le marché européen. Il propose à ses clients un discount pour les produits les plus chers (10% de réduction à partir de 500 euros d'achat, 15% à partir de 1000 euros, et 20% à partir de 2000 euros).\n",
        "\n",
        "Le magasin a une liste de prix en dollars et fait appel à tes services pour déterminer pour chaque prix, le montant que paiera le client en euros (après application de la remise). \n"
      ]
    },
    {
      "cell_type": "markdown",
      "metadata": {
        "id": "YWW9llTJhEMT"
      },
      "source": [
        "## Python 2.1 dollar_to_euro\n",
        "Crée une fonction `dollar_to_euro` qui prend en paramètre un nombre décimal et retourne le montant converti en euro (dans le sens dollar vers euro, prends le taux en vigueur le jour du checkpoint)."
      ]
    },
    {
      "cell_type": "code",
      "metadata": {
        "id": "dQeMAFaahD81",
        "colab": {
          "base_uri": "https://localhost:8080/"
        },
        "outputId": "0519f92a-34d9-459b-91d8-a848b3051872"
      },
      "source": [
        "from prompt_toolkit.application.application import Return\n",
        "#le 14/10/2022 1$ = 1,02€\n",
        "\n",
        "def f_dollar_to_euro(n) : \n",
        "  return n*120.0 / 100.0\n",
        "\n",
        "f_dollar_to_euro(130)"
      ],
      "execution_count": null,
      "outputs": [
        {
          "output_type": "execute_result",
          "data": {
            "text/plain": [
              "156.0"
            ]
          },
          "metadata": {},
          "execution_count": 17
        }
      ]
    },
    {
      "cell_type": "markdown",
      "metadata": {
        "id": "GP0WRUWskAxN"
      },
      "source": [
        "## Python 2.2 discount\n",
        "Crée une fonction `discount` qui prend en paramètre un nombre décimal et retourne le pourcentage de réduction :\n",
        "- 0.10 si l'argument est supérieur à 500\n",
        "- 0.15 si l'argument est supérieur à 1000\n",
        "- 0.20 si l'argument est supérieur à 2000"
      ]
    },
    {
      "cell_type": "code",
      "metadata": {
        "id": "54K2IrDrj_p-",
        "colab": {
          "base_uri": "https://localhost:8080/"
        },
        "outputId": "732eb53f-529f-4e34-c5cd-e8e97a4014d4"
      },
      "source": [
        "#ce que je comprends de l'énoncé\n",
        "\n",
        "def f_discount(x) : \n",
        "  if x<500: \n",
        "    return 0.10*100\n",
        "  elif 500<= x <1000 : \n",
        "    return 0.15*100\n",
        "  elif x>=1000: \n",
        "    return 0.20*100\n",
        "  \n",
        "f_discount(1900)"
      ],
      "execution_count": null,
      "outputs": [
        {
          "output_type": "execute_result",
          "data": {
            "text/plain": [
              "20.0"
            ]
          },
          "metadata": {},
          "execution_count": 18
        }
      ]
    },
    {
      "cell_type": "code",
      "source": [
        "#la fonction qui va m'aider pour la question suivante\n",
        "\n",
        "def f_discount2(x) : \n",
        "    if x<500: \n",
        "      return x-x*0.10\n",
        "    elif 500<= x <1000 : \n",
        "      return x-x*0.15\n",
        "    elif x>=1000: \n",
        "     return x-x*0.20\n",
        "\n",
        "f_discount2(20)"
      ],
      "metadata": {
        "colab": {
          "base_uri": "https://localhost:8080/"
        },
        "id": "A3xibgBimMRk",
        "outputId": "c3b4b0c4-972f-4a60-fe58-5a1afe38188a"
      },
      "execution_count": null,
      "outputs": [
        {
          "output_type": "execute_result",
          "data": {
            "text/plain": [
              "18.0"
            ]
          },
          "metadata": {},
          "execution_count": 21
        }
      ]
    },
    {
      "cell_type": "markdown",
      "source": [],
      "metadata": {
        "id": "GNlytQOsoEHn"
      }
    },
    {
      "cell_type": "markdown",
      "metadata": {
        "id": "2UDkCCsOkkfI"
      },
      "source": [
        "## Python 2.3 Utilisation\n",
        "Utilise tes deux fonctions pour **afficher une phrase** pour chacun des montants de cette liste de prix en dollars, indiquant le montant à payer en euros.\n",
        "Tu dois donc appliquer d'abord la fonction de conversion pour obtenir des euros, puis la fonction de discount, puis afficher une phrase à partir du résultat."
      ]
    },
    {
      "cell_type": "code",
      "metadata": {
        "id": "zJwtL9H_kxXR"
      },
      "source": [
        "price_list = [256, 1458, 2387, 669, 508, 1365]\n",
        "\n",
        "\n",
        "print(f'Après conversion et réduction, votre montant total est de {f_discount2(f_dollar_to_euro(256))} €')\n",
        "print(f'Après conversion et réduction, votre montant total est de {f_discount2(f_dollar_to_euro(1458))} €')\n",
        "print(f'Après conversion et réduction, votre montant total est de {f_discount2(f_dollar_to_euro(2387))} €')\n",
        "print(f'Après conversion et réduction, votre montant total est de {f_discount2(f_dollar_to_euro(669))} €')\n",
        "print(f'Après conversion et réduction, votre montant total est de {f_discount2(f_dollar_to_euro(508))} €')\n",
        "print(f'Après conversion et réduction, votre montant total est de {f_discount2(f_dollar_to_euro(1365))} €')\n",
        "\n"
      ],
      "execution_count": null,
      "outputs": []
    },
    {
      "cell_type": "markdown",
      "metadata": {
        "id": "To2TYJGuPwc-"
      },
      "source": [
        "# Python : Algo 3 - 1h"
      ]
    },
    {
      "cell_type": "markdown",
      "metadata": {
        "id": "B0XiM5wcQbY8"
      },
      "source": [
        "Ecris une fonction *monnaie_a_rendre()* qui prend deux arguments obligatoires : \n",
        "- montant de l'achat : float, supérieur à 0\n",
        "- monnaie du client : integer, supérieur à 0\n",
        "\n",
        "La fonction devra afficher la monnaie à rendre au client en un minimum de billets/pièces. \n",
        "\n",
        "Attention, si la monnaie du client est insuffisante (inférieure à l'achat), il faudra l'indiquer.\n",
        "\n",
        "Exemple : \n",
        "\n",
        "\n",
        "```\n",
        "monnaie_a_rendre(26.57 , 40)\n",
        ">>> Nb billets 10 euros : 1\n",
        ">>> Nb pièces 2 euros : 1\n",
        ">>> Nb pièces 1 euro : 1\n",
        ">>> Nb pièces 20 cents : 2\n",
        ">>> Nb pièces 2 cents : 1\n",
        ">>> Nb pièces 1 cent : 1\n",
        "```\n",
        "\n"
      ]
    },
    {
      "cell_type": "code",
      "metadata": {
        "id": "6alG3GNPPv5U",
        "colab": {
          "base_uri": "https://localhost:8080/",
          "height": 35
        },
        "outputId": "83f4a177-e224-4a16-e981-eeba2c53a4c4"
      },
      "source": [
        "# Ta fonction ici :\n",
        "def monnaie_a_rendre2(achat, monnaie):\n",
        "  if achat>= monnaie : \n",
        "    return\"Nous n'avons pas assez de monnaie, vous pouvez payer en carte bancaire?\"\n",
        "  \n",
        "    monnaie = [200, 100,50, 20, 10, 5, 2, 1, 0.5, 0.2, 0.1, 0.05, 0.02, 0.01]\n",
        "    i=+1\n",
        "    \n",
        "\n",
        "  for i in [monnaie] : \n",
        "      valeur_m =monnaie-achat\n",
        "      rendu =[]\n",
        "      if valeur_m // i>0 : \n",
        "         rendu[i] = int(valeur_m // i) \n",
        "         valeur_m = valeur_m % i\n",
        "  return rendu\n",
        "    \n",
        "\n",
        "monnaie_a_rendre2(40, 30)"
      ],
      "execution_count": null,
      "outputs": [
        {
          "output_type": "execute_result",
          "data": {
            "text/plain": [
              "\"Nous n'avons pas assez de monnaie, vous pouvez payer en carte bancaire?\""
            ],
            "application/vnd.google.colaboratory.intrinsic+json": {
              "type": "string"
            }
          },
          "metadata": {},
          "execution_count": 9
        }
      ]
    },
    {
      "cell_type": "code",
      "source": [
        "# Pour tester :\n",
        "monnaie_a_rendre2(26.57, 40)"
      ],
      "metadata": {
        "colab": {
          "base_uri": "https://localhost:8080/"
        },
        "id": "WS_7YVni6nPH",
        "outputId": "93994889-fa13-49d6-9b4e-073b2afa07b3"
      },
      "execution_count": null,
      "outputs": [
        {
          "output_type": "execute_result",
          "data": {
            "text/plain": [
              "[]"
            ]
          },
          "metadata": {},
          "execution_count": 10
        }
      ]
    },
    {
      "cell_type": "code",
      "metadata": {
        "id": "p2PCEpAxI20Q"
      },
      "source": [
        "\n"
      ],
      "execution_count": null,
      "outputs": []
    },
    {
      "cell_type": "markdown",
      "metadata": {
        "id": "YSAw1n0NNBrc"
      },
      "source": [
        "# Pandas - 30 min\n",
        "Exécute le code suivant, puis réponds aux questions.\n",
        "\n",
        "Le DataFrame contient 3 colonnes."
      ]
    },
    {
      "cell_type": "code",
      "metadata": {
        "id": "W35UE3f6BhC2",
        "colab": {
          "base_uri": "https://localhost:8080/"
        },
        "outputId": "ffd516f7-cd29-4ef9-ee48-ab4057dc0665"
      },
      "source": [
        "# Exécute le code ci-dessous sans rien modifier\n",
        "import pandas as pd\n",
        "temperatures_df = pd.read_csv(\"https://raw.githubusercontent.com/murpi/wilddata/master/temp2019.csv\", skiprows = 3)\n",
        "temperatures_df.index = temperatures_df[\"DATE\"]\n",
        "temperatures_df = temperatures_df[[\"MAX_TEMPERATURE_C\", \"MIN_TEMPERATURE_C\", \"WINDSPEED_MAX_KMH\"]]\n",
        "print(\"C'est chargé, ton DataFrame Pandas est disponible sous le nom de variable : temperatures_df\")\n"
      ],
      "execution_count": null,
      "outputs": [
        {
          "output_type": "stream",
          "name": "stdout",
          "text": [
            "C'est chargé, ton DataFrame Pandas est disponible sous le nom de variable : temperatures_df\n"
          ]
        }
      ]
    },
    {
      "cell_type": "code",
      "source": [
        "temperatures_df"
      ],
      "metadata": {
        "colab": {
          "base_uri": "https://localhost:8080/",
          "height": 455
        },
        "id": "ukq4iF1XfqKo",
        "outputId": "aabdd490-dfaa-43d7-e74e-30d30bfe7b89"
      },
      "execution_count": null,
      "outputs": [
        {
          "output_type": "execute_result",
          "data": {
            "text/plain": [
              "            MAX_TEMPERATURE_C  MIN_TEMPERATURE_C  WINDSPEED_MAX_KMH\n",
              "DATE                                                               \n",
              "2019-01-01                  9                  4                 10\n",
              "2019-01-02                  8                  5                 18\n",
              "2019-01-03                  6                  0                 18\n",
              "2019-01-04                  5                 -1                 15\n",
              "2019-01-05                  6                 -1                  8\n",
              "...                       ...                ...                ...\n",
              "2019-12-27                 13                 10                 13\n",
              "2019-12-28                 11                  5                 12\n",
              "2019-12-29                  9                  2                 11\n",
              "2019-12-30                 12                  4                  7\n",
              "2019-12-31                 10                  4                 13\n",
              "\n",
              "[365 rows x 3 columns]"
            ],
            "text/html": [
              "\n",
              "  <div id=\"df-aa06e0da-6410-46f4-9c65-6f8673bef37c\">\n",
              "    <div class=\"colab-df-container\">\n",
              "      <div>\n",
              "<style scoped>\n",
              "    .dataframe tbody tr th:only-of-type {\n",
              "        vertical-align: middle;\n",
              "    }\n",
              "\n",
              "    .dataframe tbody tr th {\n",
              "        vertical-align: top;\n",
              "    }\n",
              "\n",
              "    .dataframe thead th {\n",
              "        text-align: right;\n",
              "    }\n",
              "</style>\n",
              "<table border=\"1\" class=\"dataframe\">\n",
              "  <thead>\n",
              "    <tr style=\"text-align: right;\">\n",
              "      <th></th>\n",
              "      <th>MAX_TEMPERATURE_C</th>\n",
              "      <th>MIN_TEMPERATURE_C</th>\n",
              "      <th>WINDSPEED_MAX_KMH</th>\n",
              "    </tr>\n",
              "    <tr>\n",
              "      <th>DATE</th>\n",
              "      <th></th>\n",
              "      <th></th>\n",
              "      <th></th>\n",
              "    </tr>\n",
              "  </thead>\n",
              "  <tbody>\n",
              "    <tr>\n",
              "      <th>2019-01-01</th>\n",
              "      <td>9</td>\n",
              "      <td>4</td>\n",
              "      <td>10</td>\n",
              "    </tr>\n",
              "    <tr>\n",
              "      <th>2019-01-02</th>\n",
              "      <td>8</td>\n",
              "      <td>5</td>\n",
              "      <td>18</td>\n",
              "    </tr>\n",
              "    <tr>\n",
              "      <th>2019-01-03</th>\n",
              "      <td>6</td>\n",
              "      <td>0</td>\n",
              "      <td>18</td>\n",
              "    </tr>\n",
              "    <tr>\n",
              "      <th>2019-01-04</th>\n",
              "      <td>5</td>\n",
              "      <td>-1</td>\n",
              "      <td>15</td>\n",
              "    </tr>\n",
              "    <tr>\n",
              "      <th>2019-01-05</th>\n",
              "      <td>6</td>\n",
              "      <td>-1</td>\n",
              "      <td>8</td>\n",
              "    </tr>\n",
              "    <tr>\n",
              "      <th>...</th>\n",
              "      <td>...</td>\n",
              "      <td>...</td>\n",
              "      <td>...</td>\n",
              "    </tr>\n",
              "    <tr>\n",
              "      <th>2019-12-27</th>\n",
              "      <td>13</td>\n",
              "      <td>10</td>\n",
              "      <td>13</td>\n",
              "    </tr>\n",
              "    <tr>\n",
              "      <th>2019-12-28</th>\n",
              "      <td>11</td>\n",
              "      <td>5</td>\n",
              "      <td>12</td>\n",
              "    </tr>\n",
              "    <tr>\n",
              "      <th>2019-12-29</th>\n",
              "      <td>9</td>\n",
              "      <td>2</td>\n",
              "      <td>11</td>\n",
              "    </tr>\n",
              "    <tr>\n",
              "      <th>2019-12-30</th>\n",
              "      <td>12</td>\n",
              "      <td>4</td>\n",
              "      <td>7</td>\n",
              "    </tr>\n",
              "    <tr>\n",
              "      <th>2019-12-31</th>\n",
              "      <td>10</td>\n",
              "      <td>4</td>\n",
              "      <td>13</td>\n",
              "    </tr>\n",
              "  </tbody>\n",
              "</table>\n",
              "<p>365 rows × 3 columns</p>\n",
              "</div>\n",
              "      <button class=\"colab-df-convert\" onclick=\"convertToInteractive('df-aa06e0da-6410-46f4-9c65-6f8673bef37c')\"\n",
              "              title=\"Convert this dataframe to an interactive table.\"\n",
              "              style=\"display:none;\">\n",
              "        \n",
              "  <svg xmlns=\"http://www.w3.org/2000/svg\" height=\"24px\"viewBox=\"0 0 24 24\"\n",
              "       width=\"24px\">\n",
              "    <path d=\"M0 0h24v24H0V0z\" fill=\"none\"/>\n",
              "    <path d=\"M18.56 5.44l.94 2.06.94-2.06 2.06-.94-2.06-.94-.94-2.06-.94 2.06-2.06.94zm-11 1L8.5 8.5l.94-2.06 2.06-.94-2.06-.94L8.5 2.5l-.94 2.06-2.06.94zm10 10l.94 2.06.94-2.06 2.06-.94-2.06-.94-.94-2.06-.94 2.06-2.06.94z\"/><path d=\"M17.41 7.96l-1.37-1.37c-.4-.4-.92-.59-1.43-.59-.52 0-1.04.2-1.43.59L10.3 9.45l-7.72 7.72c-.78.78-.78 2.05 0 2.83L4 21.41c.39.39.9.59 1.41.59.51 0 1.02-.2 1.41-.59l7.78-7.78 2.81-2.81c.8-.78.8-2.07 0-2.86zM5.41 20L4 18.59l7.72-7.72 1.47 1.35L5.41 20z\"/>\n",
              "  </svg>\n",
              "      </button>\n",
              "      \n",
              "  <style>\n",
              "    .colab-df-container {\n",
              "      display:flex;\n",
              "      flex-wrap:wrap;\n",
              "      gap: 12px;\n",
              "    }\n",
              "\n",
              "    .colab-df-convert {\n",
              "      background-color: #E8F0FE;\n",
              "      border: none;\n",
              "      border-radius: 50%;\n",
              "      cursor: pointer;\n",
              "      display: none;\n",
              "      fill: #1967D2;\n",
              "      height: 32px;\n",
              "      padding: 0 0 0 0;\n",
              "      width: 32px;\n",
              "    }\n",
              "\n",
              "    .colab-df-convert:hover {\n",
              "      background-color: #E2EBFA;\n",
              "      box-shadow: 0px 1px 2px rgba(60, 64, 67, 0.3), 0px 1px 3px 1px rgba(60, 64, 67, 0.15);\n",
              "      fill: #174EA6;\n",
              "    }\n",
              "\n",
              "    [theme=dark] .colab-df-convert {\n",
              "      background-color: #3B4455;\n",
              "      fill: #D2E3FC;\n",
              "    }\n",
              "\n",
              "    [theme=dark] .colab-df-convert:hover {\n",
              "      background-color: #434B5C;\n",
              "      box-shadow: 0px 1px 3px 1px rgba(0, 0, 0, 0.15);\n",
              "      filter: drop-shadow(0px 1px 2px rgba(0, 0, 0, 0.3));\n",
              "      fill: #FFFFFF;\n",
              "    }\n",
              "  </style>\n",
              "\n",
              "      <script>\n",
              "        const buttonEl =\n",
              "          document.querySelector('#df-aa06e0da-6410-46f4-9c65-6f8673bef37c button.colab-df-convert');\n",
              "        buttonEl.style.display =\n",
              "          google.colab.kernel.accessAllowed ? 'block' : 'none';\n",
              "\n",
              "        async function convertToInteractive(key) {\n",
              "          const element = document.querySelector('#df-aa06e0da-6410-46f4-9c65-6f8673bef37c');\n",
              "          const dataTable =\n",
              "            await google.colab.kernel.invokeFunction('convertToInteractive',\n",
              "                                                     [key], {});\n",
              "          if (!dataTable) return;\n",
              "\n",
              "          const docLinkHtml = 'Like what you see? Visit the ' +\n",
              "            '<a target=\"_blank\" href=https://colab.research.google.com/notebooks/data_table.ipynb>data table notebook</a>'\n",
              "            + ' to learn more about interactive tables.';\n",
              "          element.innerHTML = '';\n",
              "          dataTable['output_type'] = 'display_data';\n",
              "          await google.colab.output.renderOutput(dataTable, element);\n",
              "          const docLink = document.createElement('div');\n",
              "          docLink.innerHTML = docLinkHtml;\n",
              "          element.appendChild(docLink);\n",
              "        }\n",
              "      </script>\n",
              "    </div>\n",
              "  </div>\n",
              "  "
            ]
          },
          "metadata": {},
          "execution_count": 2
        }
      ]
    },
    {
      "cell_type": "markdown",
      "source": [
        "## Question Pandas 1"
      ],
      "metadata": {
        "id": "KkEM6yKZKY-X"
      }
    },
    {
      "cell_type": "code",
      "metadata": {
        "id": "-i5BncuMRJl1",
        "colab": {
          "base_uri": "https://localhost:8080/",
          "height": 35
        },
        "outputId": "7ea265a5-fed9-4061-d850-f5bd59051aa2"
      },
      "source": [
        "# Combien y a-t-il de lignes dans le DataFrame ?\n",
        "\"\"\"Il y a 365 lignes\"\"\"\n"
      ],
      "execution_count": null,
      "outputs": [
        {
          "output_type": "execute_result",
          "data": {
            "text/plain": [
              "'Il y a 365 lignes'"
            ],
            "application/vnd.google.colaboratory.intrinsic+json": {
              "type": "string"
            }
          },
          "metadata": {},
          "execution_count": 3
        }
      ]
    },
    {
      "cell_type": "markdown",
      "source": [
        "## Question Pandas 2"
      ],
      "metadata": {
        "id": "mpRtiSN2KaaQ"
      }
    },
    {
      "cell_type": "code",
      "metadata": {
        "id": "zH697iMjN-lP",
        "colab": {
          "base_uri": "https://localhost:8080/",
          "height": 112
        },
        "outputId": "e9e3f47e-1064-4c22-e44e-1634ccc5b847"
      },
      "source": [
        "# Affiche la dernière ligne du DataFrame\n",
        "\n",
        "temperatures_df.tail(1)"
      ],
      "execution_count": null,
      "outputs": [
        {
          "output_type": "execute_result",
          "data": {
            "text/plain": [
              "            MAX_TEMPERATURE_C  MIN_TEMPERATURE_C  WINDSPEED_MAX_KMH\n",
              "DATE                                                               \n",
              "2019-12-31                 10                  4                 13"
            ],
            "text/html": [
              "\n",
              "  <div id=\"df-b8900a7c-e764-4f5c-aece-001a603a64b0\">\n",
              "    <div class=\"colab-df-container\">\n",
              "      <div>\n",
              "<style scoped>\n",
              "    .dataframe tbody tr th:only-of-type {\n",
              "        vertical-align: middle;\n",
              "    }\n",
              "\n",
              "    .dataframe tbody tr th {\n",
              "        vertical-align: top;\n",
              "    }\n",
              "\n",
              "    .dataframe thead th {\n",
              "        text-align: right;\n",
              "    }\n",
              "</style>\n",
              "<table border=\"1\" class=\"dataframe\">\n",
              "  <thead>\n",
              "    <tr style=\"text-align: right;\">\n",
              "      <th></th>\n",
              "      <th>MAX_TEMPERATURE_C</th>\n",
              "      <th>MIN_TEMPERATURE_C</th>\n",
              "      <th>WINDSPEED_MAX_KMH</th>\n",
              "    </tr>\n",
              "    <tr>\n",
              "      <th>DATE</th>\n",
              "      <th></th>\n",
              "      <th></th>\n",
              "      <th></th>\n",
              "    </tr>\n",
              "  </thead>\n",
              "  <tbody>\n",
              "    <tr>\n",
              "      <th>2019-12-31</th>\n",
              "      <td>10</td>\n",
              "      <td>4</td>\n",
              "      <td>13</td>\n",
              "    </tr>\n",
              "  </tbody>\n",
              "</table>\n",
              "</div>\n",
              "      <button class=\"colab-df-convert\" onclick=\"convertToInteractive('df-b8900a7c-e764-4f5c-aece-001a603a64b0')\"\n",
              "              title=\"Convert this dataframe to an interactive table.\"\n",
              "              style=\"display:none;\">\n",
              "        \n",
              "  <svg xmlns=\"http://www.w3.org/2000/svg\" height=\"24px\"viewBox=\"0 0 24 24\"\n",
              "       width=\"24px\">\n",
              "    <path d=\"M0 0h24v24H0V0z\" fill=\"none\"/>\n",
              "    <path d=\"M18.56 5.44l.94 2.06.94-2.06 2.06-.94-2.06-.94-.94-2.06-.94 2.06-2.06.94zm-11 1L8.5 8.5l.94-2.06 2.06-.94-2.06-.94L8.5 2.5l-.94 2.06-2.06.94zm10 10l.94 2.06.94-2.06 2.06-.94-2.06-.94-.94-2.06-.94 2.06-2.06.94z\"/><path d=\"M17.41 7.96l-1.37-1.37c-.4-.4-.92-.59-1.43-.59-.52 0-1.04.2-1.43.59L10.3 9.45l-7.72 7.72c-.78.78-.78 2.05 0 2.83L4 21.41c.39.39.9.59 1.41.59.51 0 1.02-.2 1.41-.59l7.78-7.78 2.81-2.81c.8-.78.8-2.07 0-2.86zM5.41 20L4 18.59l7.72-7.72 1.47 1.35L5.41 20z\"/>\n",
              "  </svg>\n",
              "      </button>\n",
              "      \n",
              "  <style>\n",
              "    .colab-df-container {\n",
              "      display:flex;\n",
              "      flex-wrap:wrap;\n",
              "      gap: 12px;\n",
              "    }\n",
              "\n",
              "    .colab-df-convert {\n",
              "      background-color: #E8F0FE;\n",
              "      border: none;\n",
              "      border-radius: 50%;\n",
              "      cursor: pointer;\n",
              "      display: none;\n",
              "      fill: #1967D2;\n",
              "      height: 32px;\n",
              "      padding: 0 0 0 0;\n",
              "      width: 32px;\n",
              "    }\n",
              "\n",
              "    .colab-df-convert:hover {\n",
              "      background-color: #E2EBFA;\n",
              "      box-shadow: 0px 1px 2px rgba(60, 64, 67, 0.3), 0px 1px 3px 1px rgba(60, 64, 67, 0.15);\n",
              "      fill: #174EA6;\n",
              "    }\n",
              "\n",
              "    [theme=dark] .colab-df-convert {\n",
              "      background-color: #3B4455;\n",
              "      fill: #D2E3FC;\n",
              "    }\n",
              "\n",
              "    [theme=dark] .colab-df-convert:hover {\n",
              "      background-color: #434B5C;\n",
              "      box-shadow: 0px 1px 3px 1px rgba(0, 0, 0, 0.15);\n",
              "      filter: drop-shadow(0px 1px 2px rgba(0, 0, 0, 0.3));\n",
              "      fill: #FFFFFF;\n",
              "    }\n",
              "  </style>\n",
              "\n",
              "      <script>\n",
              "        const buttonEl =\n",
              "          document.querySelector('#df-b8900a7c-e764-4f5c-aece-001a603a64b0 button.colab-df-convert');\n",
              "        buttonEl.style.display =\n",
              "          google.colab.kernel.accessAllowed ? 'block' : 'none';\n",
              "\n",
              "        async function convertToInteractive(key) {\n",
              "          const element = document.querySelector('#df-b8900a7c-e764-4f5c-aece-001a603a64b0');\n",
              "          const dataTable =\n",
              "            await google.colab.kernel.invokeFunction('convertToInteractive',\n",
              "                                                     [key], {});\n",
              "          if (!dataTable) return;\n",
              "\n",
              "          const docLinkHtml = 'Like what you see? Visit the ' +\n",
              "            '<a target=\"_blank\" href=https://colab.research.google.com/notebooks/data_table.ipynb>data table notebook</a>'\n",
              "            + ' to learn more about interactive tables.';\n",
              "          element.innerHTML = '';\n",
              "          dataTable['output_type'] = 'display_data';\n",
              "          await google.colab.output.renderOutput(dataTable, element);\n",
              "          const docLink = document.createElement('div');\n",
              "          docLink.innerHTML = docLinkHtml;\n",
              "          element.appendChild(docLink);\n",
              "        }\n",
              "      </script>\n",
              "    </div>\n",
              "  </div>\n",
              "  "
            ]
          },
          "metadata": {},
          "execution_count": 4
        }
      ]
    },
    {
      "cell_type": "code",
      "source": [
        "#ou\n",
        "temperatures_df.iloc[-1:]"
      ],
      "metadata": {
        "colab": {
          "base_uri": "https://localhost:8080/",
          "height": 112
        },
        "id": "vDrKcrQ9WPKb",
        "outputId": "2c399f7f-da0b-4045-c5e1-20545ebaa459"
      },
      "execution_count": null,
      "outputs": [
        {
          "output_type": "execute_result",
          "data": {
            "text/plain": [
              "            MAX_TEMPERATURE_C  MIN_TEMPERATURE_C  WINDSPEED_MAX_KMH\n",
              "DATE                                                               \n",
              "2019-12-31                 10                  4                 13"
            ],
            "text/html": [
              "\n",
              "  <div id=\"df-2d774d29-6768-491d-8548-f582816413db\">\n",
              "    <div class=\"colab-df-container\">\n",
              "      <div>\n",
              "<style scoped>\n",
              "    .dataframe tbody tr th:only-of-type {\n",
              "        vertical-align: middle;\n",
              "    }\n",
              "\n",
              "    .dataframe tbody tr th {\n",
              "        vertical-align: top;\n",
              "    }\n",
              "\n",
              "    .dataframe thead th {\n",
              "        text-align: right;\n",
              "    }\n",
              "</style>\n",
              "<table border=\"1\" class=\"dataframe\">\n",
              "  <thead>\n",
              "    <tr style=\"text-align: right;\">\n",
              "      <th></th>\n",
              "      <th>MAX_TEMPERATURE_C</th>\n",
              "      <th>MIN_TEMPERATURE_C</th>\n",
              "      <th>WINDSPEED_MAX_KMH</th>\n",
              "    </tr>\n",
              "    <tr>\n",
              "      <th>DATE</th>\n",
              "      <th></th>\n",
              "      <th></th>\n",
              "      <th></th>\n",
              "    </tr>\n",
              "  </thead>\n",
              "  <tbody>\n",
              "    <tr>\n",
              "      <th>2019-12-31</th>\n",
              "      <td>10</td>\n",
              "      <td>4</td>\n",
              "      <td>13</td>\n",
              "    </tr>\n",
              "  </tbody>\n",
              "</table>\n",
              "</div>\n",
              "      <button class=\"colab-df-convert\" onclick=\"convertToInteractive('df-2d774d29-6768-491d-8548-f582816413db')\"\n",
              "              title=\"Convert this dataframe to an interactive table.\"\n",
              "              style=\"display:none;\">\n",
              "        \n",
              "  <svg xmlns=\"http://www.w3.org/2000/svg\" height=\"24px\"viewBox=\"0 0 24 24\"\n",
              "       width=\"24px\">\n",
              "    <path d=\"M0 0h24v24H0V0z\" fill=\"none\"/>\n",
              "    <path d=\"M18.56 5.44l.94 2.06.94-2.06 2.06-.94-2.06-.94-.94-2.06-.94 2.06-2.06.94zm-11 1L8.5 8.5l.94-2.06 2.06-.94-2.06-.94L8.5 2.5l-.94 2.06-2.06.94zm10 10l.94 2.06.94-2.06 2.06-.94-2.06-.94-.94-2.06-.94 2.06-2.06.94z\"/><path d=\"M17.41 7.96l-1.37-1.37c-.4-.4-.92-.59-1.43-.59-.52 0-1.04.2-1.43.59L10.3 9.45l-7.72 7.72c-.78.78-.78 2.05 0 2.83L4 21.41c.39.39.9.59 1.41.59.51 0 1.02-.2 1.41-.59l7.78-7.78 2.81-2.81c.8-.78.8-2.07 0-2.86zM5.41 20L4 18.59l7.72-7.72 1.47 1.35L5.41 20z\"/>\n",
              "  </svg>\n",
              "      </button>\n",
              "      \n",
              "  <style>\n",
              "    .colab-df-container {\n",
              "      display:flex;\n",
              "      flex-wrap:wrap;\n",
              "      gap: 12px;\n",
              "    }\n",
              "\n",
              "    .colab-df-convert {\n",
              "      background-color: #E8F0FE;\n",
              "      border: none;\n",
              "      border-radius: 50%;\n",
              "      cursor: pointer;\n",
              "      display: none;\n",
              "      fill: #1967D2;\n",
              "      height: 32px;\n",
              "      padding: 0 0 0 0;\n",
              "      width: 32px;\n",
              "    }\n",
              "\n",
              "    .colab-df-convert:hover {\n",
              "      background-color: #E2EBFA;\n",
              "      box-shadow: 0px 1px 2px rgba(60, 64, 67, 0.3), 0px 1px 3px 1px rgba(60, 64, 67, 0.15);\n",
              "      fill: #174EA6;\n",
              "    }\n",
              "\n",
              "    [theme=dark] .colab-df-convert {\n",
              "      background-color: #3B4455;\n",
              "      fill: #D2E3FC;\n",
              "    }\n",
              "\n",
              "    [theme=dark] .colab-df-convert:hover {\n",
              "      background-color: #434B5C;\n",
              "      box-shadow: 0px 1px 3px 1px rgba(0, 0, 0, 0.15);\n",
              "      filter: drop-shadow(0px 1px 2px rgba(0, 0, 0, 0.3));\n",
              "      fill: #FFFFFF;\n",
              "    }\n",
              "  </style>\n",
              "\n",
              "      <script>\n",
              "        const buttonEl =\n",
              "          document.querySelector('#df-2d774d29-6768-491d-8548-f582816413db button.colab-df-convert');\n",
              "        buttonEl.style.display =\n",
              "          google.colab.kernel.accessAllowed ? 'block' : 'none';\n",
              "\n",
              "        async function convertToInteractive(key) {\n",
              "          const element = document.querySelector('#df-2d774d29-6768-491d-8548-f582816413db');\n",
              "          const dataTable =\n",
              "            await google.colab.kernel.invokeFunction('convertToInteractive',\n",
              "                                                     [key], {});\n",
              "          if (!dataTable) return;\n",
              "\n",
              "          const docLinkHtml = 'Like what you see? Visit the ' +\n",
              "            '<a target=\"_blank\" href=https://colab.research.google.com/notebooks/data_table.ipynb>data table notebook</a>'\n",
              "            + ' to learn more about interactive tables.';\n",
              "          element.innerHTML = '';\n",
              "          dataTable['output_type'] = 'display_data';\n",
              "          await google.colab.output.renderOutput(dataTable, element);\n",
              "          const docLink = document.createElement('div');\n",
              "          docLink.innerHTML = docLinkHtml;\n",
              "          element.appendChild(docLink);\n",
              "        }\n",
              "      </script>\n",
              "    </div>\n",
              "  </div>\n",
              "  "
            ]
          },
          "metadata": {},
          "execution_count": 5
        }
      ]
    },
    {
      "cell_type": "markdown",
      "metadata": {
        "id": "H-azX8nUNO9_"
      },
      "source": [
        "## Question Pandas 3"
      ]
    },
    {
      "cell_type": "code",
      "metadata": {
        "id": "gXAfaemhNkzC",
        "colab": {
          "base_uri": "https://localhost:8080/"
        },
        "outputId": "9273f822-8230-4981-e159-80b53d63addc"
      },
      "source": [
        "# Quelle a été la température minimale de la journée du 17 janvier 2019 ?\n",
        "\n",
        "temperatures_df['MIN_TEMPERATURE_C']['2019-01-17']\n"
      ],
      "execution_count": null,
      "outputs": [
        {
          "output_type": "execute_result",
          "data": {
            "text/plain": [
              "5"
            ]
          },
          "metadata": {},
          "execution_count": 6
        }
      ]
    },
    {
      "cell_type": "code",
      "source": [
        "temperatures_df.loc['2019-01-17', 'MIN_TEMPERATURE_C']"
      ],
      "metadata": {
        "colab": {
          "base_uri": "https://localhost:8080/"
        },
        "id": "KduasdF6jLza",
        "outputId": "ed4a665c-c11b-4a4c-be7f-51754f4ef330"
      },
      "execution_count": null,
      "outputs": [
        {
          "output_type": "execute_result",
          "data": {
            "text/plain": [
              "5"
            ]
          },
          "metadata": {},
          "execution_count": 7
        }
      ]
    },
    {
      "cell_type": "markdown",
      "source": [
        "## Question Pandas 4"
      ],
      "metadata": {
        "id": "5QPt6248gg-K"
      }
    },
    {
      "cell_type": "code",
      "source": [
        "# Affiche un DataFrame avec les 3 colonnes et uniquement les jours où la vitesse du vent a été supérieure à 40 km/h\n",
        "# Combien y a-t-il eu de jours concernés ?\n",
        "df_vent_fort = temperatures_df['WINDSPEED_MAX_KMH']>40\n",
        "temperatures_df[df_vent_fort]\n"
      ],
      "metadata": {
        "id": "i9SJSx7RgkR5",
        "colab": {
          "base_uri": "https://localhost:8080/",
          "height": 175
        },
        "outputId": "fbc00c5f-897e-4912-aeb1-912aa45ff7fc"
      },
      "execution_count": null,
      "outputs": [
        {
          "output_type": "execute_result",
          "data": {
            "text/plain": [
              "            MAX_TEMPERATURE_C  MIN_TEMPERATURE_C  WINDSPEED_MAX_KMH\n",
              "DATE                                                               \n",
              "2019-03-04                 11                  7                 46\n",
              "2019-06-07                 15                 13                 42\n",
              "2019-09-29                 20                 13                 41"
            ],
            "text/html": [
              "\n",
              "  <div id=\"df-2fcc86ec-67a5-48ee-b010-cf359cdbdcc6\">\n",
              "    <div class=\"colab-df-container\">\n",
              "      <div>\n",
              "<style scoped>\n",
              "    .dataframe tbody tr th:only-of-type {\n",
              "        vertical-align: middle;\n",
              "    }\n",
              "\n",
              "    .dataframe tbody tr th {\n",
              "        vertical-align: top;\n",
              "    }\n",
              "\n",
              "    .dataframe thead th {\n",
              "        text-align: right;\n",
              "    }\n",
              "</style>\n",
              "<table border=\"1\" class=\"dataframe\">\n",
              "  <thead>\n",
              "    <tr style=\"text-align: right;\">\n",
              "      <th></th>\n",
              "      <th>MAX_TEMPERATURE_C</th>\n",
              "      <th>MIN_TEMPERATURE_C</th>\n",
              "      <th>WINDSPEED_MAX_KMH</th>\n",
              "    </tr>\n",
              "    <tr>\n",
              "      <th>DATE</th>\n",
              "      <th></th>\n",
              "      <th></th>\n",
              "      <th></th>\n",
              "    </tr>\n",
              "  </thead>\n",
              "  <tbody>\n",
              "    <tr>\n",
              "      <th>2019-03-04</th>\n",
              "      <td>11</td>\n",
              "      <td>7</td>\n",
              "      <td>46</td>\n",
              "    </tr>\n",
              "    <tr>\n",
              "      <th>2019-06-07</th>\n",
              "      <td>15</td>\n",
              "      <td>13</td>\n",
              "      <td>42</td>\n",
              "    </tr>\n",
              "    <tr>\n",
              "      <th>2019-09-29</th>\n",
              "      <td>20</td>\n",
              "      <td>13</td>\n",
              "      <td>41</td>\n",
              "    </tr>\n",
              "  </tbody>\n",
              "</table>\n",
              "</div>\n",
              "      <button class=\"colab-df-convert\" onclick=\"convertToInteractive('df-2fcc86ec-67a5-48ee-b010-cf359cdbdcc6')\"\n",
              "              title=\"Convert this dataframe to an interactive table.\"\n",
              "              style=\"display:none;\">\n",
              "        \n",
              "  <svg xmlns=\"http://www.w3.org/2000/svg\" height=\"24px\"viewBox=\"0 0 24 24\"\n",
              "       width=\"24px\">\n",
              "    <path d=\"M0 0h24v24H0V0z\" fill=\"none\"/>\n",
              "    <path d=\"M18.56 5.44l.94 2.06.94-2.06 2.06-.94-2.06-.94-.94-2.06-.94 2.06-2.06.94zm-11 1L8.5 8.5l.94-2.06 2.06-.94-2.06-.94L8.5 2.5l-.94 2.06-2.06.94zm10 10l.94 2.06.94-2.06 2.06-.94-2.06-.94-.94-2.06-.94 2.06-2.06.94z\"/><path d=\"M17.41 7.96l-1.37-1.37c-.4-.4-.92-.59-1.43-.59-.52 0-1.04.2-1.43.59L10.3 9.45l-7.72 7.72c-.78.78-.78 2.05 0 2.83L4 21.41c.39.39.9.59 1.41.59.51 0 1.02-.2 1.41-.59l7.78-7.78 2.81-2.81c.8-.78.8-2.07 0-2.86zM5.41 20L4 18.59l7.72-7.72 1.47 1.35L5.41 20z\"/>\n",
              "  </svg>\n",
              "      </button>\n",
              "      \n",
              "  <style>\n",
              "    .colab-df-container {\n",
              "      display:flex;\n",
              "      flex-wrap:wrap;\n",
              "      gap: 12px;\n",
              "    }\n",
              "\n",
              "    .colab-df-convert {\n",
              "      background-color: #E8F0FE;\n",
              "      border: none;\n",
              "      border-radius: 50%;\n",
              "      cursor: pointer;\n",
              "      display: none;\n",
              "      fill: #1967D2;\n",
              "      height: 32px;\n",
              "      padding: 0 0 0 0;\n",
              "      width: 32px;\n",
              "    }\n",
              "\n",
              "    .colab-df-convert:hover {\n",
              "      background-color: #E2EBFA;\n",
              "      box-shadow: 0px 1px 2px rgba(60, 64, 67, 0.3), 0px 1px 3px 1px rgba(60, 64, 67, 0.15);\n",
              "      fill: #174EA6;\n",
              "    }\n",
              "\n",
              "    [theme=dark] .colab-df-convert {\n",
              "      background-color: #3B4455;\n",
              "      fill: #D2E3FC;\n",
              "    }\n",
              "\n",
              "    [theme=dark] .colab-df-convert:hover {\n",
              "      background-color: #434B5C;\n",
              "      box-shadow: 0px 1px 3px 1px rgba(0, 0, 0, 0.15);\n",
              "      filter: drop-shadow(0px 1px 2px rgba(0, 0, 0, 0.3));\n",
              "      fill: #FFFFFF;\n",
              "    }\n",
              "  </style>\n",
              "\n",
              "      <script>\n",
              "        const buttonEl =\n",
              "          document.querySelector('#df-2fcc86ec-67a5-48ee-b010-cf359cdbdcc6 button.colab-df-convert');\n",
              "        buttonEl.style.display =\n",
              "          google.colab.kernel.accessAllowed ? 'block' : 'none';\n",
              "\n",
              "        async function convertToInteractive(key) {\n",
              "          const element = document.querySelector('#df-2fcc86ec-67a5-48ee-b010-cf359cdbdcc6');\n",
              "          const dataTable =\n",
              "            await google.colab.kernel.invokeFunction('convertToInteractive',\n",
              "                                                     [key], {});\n",
              "          if (!dataTable) return;\n",
              "\n",
              "          const docLinkHtml = 'Like what you see? Visit the ' +\n",
              "            '<a target=\"_blank\" href=https://colab.research.google.com/notebooks/data_table.ipynb>data table notebook</a>'\n",
              "            + ' to learn more about interactive tables.';\n",
              "          element.innerHTML = '';\n",
              "          dataTable['output_type'] = 'display_data';\n",
              "          await google.colab.output.renderOutput(dataTable, element);\n",
              "          const docLink = document.createElement('div');\n",
              "          docLink.innerHTML = docLinkHtml;\n",
              "          element.appendChild(docLink);\n",
              "        }\n",
              "      </script>\n",
              "    </div>\n",
              "  </div>\n",
              "  "
            ]
          },
          "metadata": {},
          "execution_count": 8
        }
      ]
    },
    {
      "cell_type": "code",
      "source": [
        "temperatures_df[temperatures_df['WINDSPEED_MAX_KMH']>40]"
      ],
      "metadata": {
        "colab": {
          "base_uri": "https://localhost:8080/",
          "height": 175
        },
        "id": "qpLGuttikuYw",
        "outputId": "ad1e713f-3404-4223-a4cd-30afd2ffe21d"
      },
      "execution_count": null,
      "outputs": [
        {
          "output_type": "execute_result",
          "data": {
            "text/plain": [
              "            MAX_TEMPERATURE_C  MIN_TEMPERATURE_C  WINDSPEED_MAX_KMH\n",
              "DATE                                                               \n",
              "2019-03-04                 11                  7                 46\n",
              "2019-06-07                 15                 13                 42\n",
              "2019-09-29                 20                 13                 41"
            ],
            "text/html": [
              "\n",
              "  <div id=\"df-55e9767c-d828-4819-ac36-0d54bccd1a93\">\n",
              "    <div class=\"colab-df-container\">\n",
              "      <div>\n",
              "<style scoped>\n",
              "    .dataframe tbody tr th:only-of-type {\n",
              "        vertical-align: middle;\n",
              "    }\n",
              "\n",
              "    .dataframe tbody tr th {\n",
              "        vertical-align: top;\n",
              "    }\n",
              "\n",
              "    .dataframe thead th {\n",
              "        text-align: right;\n",
              "    }\n",
              "</style>\n",
              "<table border=\"1\" class=\"dataframe\">\n",
              "  <thead>\n",
              "    <tr style=\"text-align: right;\">\n",
              "      <th></th>\n",
              "      <th>MAX_TEMPERATURE_C</th>\n",
              "      <th>MIN_TEMPERATURE_C</th>\n",
              "      <th>WINDSPEED_MAX_KMH</th>\n",
              "    </tr>\n",
              "    <tr>\n",
              "      <th>DATE</th>\n",
              "      <th></th>\n",
              "      <th></th>\n",
              "      <th></th>\n",
              "    </tr>\n",
              "  </thead>\n",
              "  <tbody>\n",
              "    <tr>\n",
              "      <th>2019-03-04</th>\n",
              "      <td>11</td>\n",
              "      <td>7</td>\n",
              "      <td>46</td>\n",
              "    </tr>\n",
              "    <tr>\n",
              "      <th>2019-06-07</th>\n",
              "      <td>15</td>\n",
              "      <td>13</td>\n",
              "      <td>42</td>\n",
              "    </tr>\n",
              "    <tr>\n",
              "      <th>2019-09-29</th>\n",
              "      <td>20</td>\n",
              "      <td>13</td>\n",
              "      <td>41</td>\n",
              "    </tr>\n",
              "  </tbody>\n",
              "</table>\n",
              "</div>\n",
              "      <button class=\"colab-df-convert\" onclick=\"convertToInteractive('df-55e9767c-d828-4819-ac36-0d54bccd1a93')\"\n",
              "              title=\"Convert this dataframe to an interactive table.\"\n",
              "              style=\"display:none;\">\n",
              "        \n",
              "  <svg xmlns=\"http://www.w3.org/2000/svg\" height=\"24px\"viewBox=\"0 0 24 24\"\n",
              "       width=\"24px\">\n",
              "    <path d=\"M0 0h24v24H0V0z\" fill=\"none\"/>\n",
              "    <path d=\"M18.56 5.44l.94 2.06.94-2.06 2.06-.94-2.06-.94-.94-2.06-.94 2.06-2.06.94zm-11 1L8.5 8.5l.94-2.06 2.06-.94-2.06-.94L8.5 2.5l-.94 2.06-2.06.94zm10 10l.94 2.06.94-2.06 2.06-.94-2.06-.94-.94-2.06-.94 2.06-2.06.94z\"/><path d=\"M17.41 7.96l-1.37-1.37c-.4-.4-.92-.59-1.43-.59-.52 0-1.04.2-1.43.59L10.3 9.45l-7.72 7.72c-.78.78-.78 2.05 0 2.83L4 21.41c.39.39.9.59 1.41.59.51 0 1.02-.2 1.41-.59l7.78-7.78 2.81-2.81c.8-.78.8-2.07 0-2.86zM5.41 20L4 18.59l7.72-7.72 1.47 1.35L5.41 20z\"/>\n",
              "  </svg>\n",
              "      </button>\n",
              "      \n",
              "  <style>\n",
              "    .colab-df-container {\n",
              "      display:flex;\n",
              "      flex-wrap:wrap;\n",
              "      gap: 12px;\n",
              "    }\n",
              "\n",
              "    .colab-df-convert {\n",
              "      background-color: #E8F0FE;\n",
              "      border: none;\n",
              "      border-radius: 50%;\n",
              "      cursor: pointer;\n",
              "      display: none;\n",
              "      fill: #1967D2;\n",
              "      height: 32px;\n",
              "      padding: 0 0 0 0;\n",
              "      width: 32px;\n",
              "    }\n",
              "\n",
              "    .colab-df-convert:hover {\n",
              "      background-color: #E2EBFA;\n",
              "      box-shadow: 0px 1px 2px rgba(60, 64, 67, 0.3), 0px 1px 3px 1px rgba(60, 64, 67, 0.15);\n",
              "      fill: #174EA6;\n",
              "    }\n",
              "\n",
              "    [theme=dark] .colab-df-convert {\n",
              "      background-color: #3B4455;\n",
              "      fill: #D2E3FC;\n",
              "    }\n",
              "\n",
              "    [theme=dark] .colab-df-convert:hover {\n",
              "      background-color: #434B5C;\n",
              "      box-shadow: 0px 1px 3px 1px rgba(0, 0, 0, 0.15);\n",
              "      filter: drop-shadow(0px 1px 2px rgba(0, 0, 0, 0.3));\n",
              "      fill: #FFFFFF;\n",
              "    }\n",
              "  </style>\n",
              "\n",
              "      <script>\n",
              "        const buttonEl =\n",
              "          document.querySelector('#df-55e9767c-d828-4819-ac36-0d54bccd1a93 button.colab-df-convert');\n",
              "        buttonEl.style.display =\n",
              "          google.colab.kernel.accessAllowed ? 'block' : 'none';\n",
              "\n",
              "        async function convertToInteractive(key) {\n",
              "          const element = document.querySelector('#df-55e9767c-d828-4819-ac36-0d54bccd1a93');\n",
              "          const dataTable =\n",
              "            await google.colab.kernel.invokeFunction('convertToInteractive',\n",
              "                                                     [key], {});\n",
              "          if (!dataTable) return;\n",
              "\n",
              "          const docLinkHtml = 'Like what you see? Visit the ' +\n",
              "            '<a target=\"_blank\" href=https://colab.research.google.com/notebooks/data_table.ipynb>data table notebook</a>'\n",
              "            + ' to learn more about interactive tables.';\n",
              "          element.innerHTML = '';\n",
              "          dataTable['output_type'] = 'display_data';\n",
              "          await google.colab.output.renderOutput(dataTable, element);\n",
              "          const docLink = document.createElement('div');\n",
              "          docLink.innerHTML = docLinkHtml;\n",
              "          element.appendChild(docLink);\n",
              "        }\n",
              "      </script>\n",
              "    </div>\n",
              "  </div>\n",
              "  "
            ]
          },
          "metadata": {},
          "execution_count": 9
        }
      ]
    },
    {
      "cell_type": "markdown",
      "source": [
        "## Question Pandas 5 (OPTIONNEL)"
      ],
      "metadata": {
        "id": "QPfTvj8WKbyj"
      }
    },
    {
      "cell_type": "code",
      "metadata": {
        "id": "T78pPHmQOGRp",
        "colab": {
          "base_uri": "https://localhost:8080/"
        },
        "outputId": "fb6e1f25-8ac1-4ded-bffd-765d6f42ff09"
      },
      "source": [
        "# Quelle a été la température minimale du mois de juin ?\n",
        "temperatures_juin = temperatures_df['2019-06-01': '2019-06-30']\n",
        "temperatures_juin['MIN_TEMPERATURE_C'].min()\n"
      ],
      "execution_count": null,
      "outputs": [
        {
          "output_type": "execute_result",
          "data": {
            "text/plain": [
              "7"
            ]
          },
          "metadata": {},
          "execution_count": 10
        }
      ]
    }
  ]
}